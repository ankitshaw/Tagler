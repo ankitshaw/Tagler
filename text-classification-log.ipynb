{
 "cells": [
  {
   "cell_type": "code",
   "execution_count": 1,
   "id": "engaged-brunei",
   "metadata": {
    "_cell_guid": "b1076dfc-b9ad-4769-8c92-a6c4dae69d19",
    "_uuid": "8f2839f25d086af736a60e9eeb907d3b93b6e0e5",
    "execution": {
     "iopub.execute_input": "2021-03-29T11:18:59.167623Z",
     "iopub.status.busy": "2021-03-29T11:18:59.166192Z",
     "iopub.status.idle": "2021-03-29T11:19:10.215261Z",
     "shell.execute_reply": "2021-03-29T11:19:10.214604Z"
    },
    "papermill": {
     "duration": 11.070368,
     "end_time": "2021-03-29T11:19:10.215406",
     "exception": false,
     "start_time": "2021-03-29T11:18:59.145038",
     "status": "completed"
    },
    "tags": []
   },
   "outputs": [
    {
     "name": "stdout",
     "output_type": "stream",
     "text": [
      "Collecting transformers==3.0.0\r\n",
      "  Downloading transformers-3.0.0-py3-none-any.whl (754 kB)\r\n",
      "\u001b[K     |████████████████████████████████| 754 kB 1.2 MB/s \r\n",
      "\u001b[?25hRequirement already satisfied: packaging in /opt/conda/lib/python3.7/site-packages (from transformers==3.0.0) (20.9)\r\n",
      "Requirement already satisfied: filelock in /opt/conda/lib/python3.7/site-packages (from transformers==3.0.0) (3.0.12)\r\n",
      "Requirement already satisfied: sacremoses in /opt/conda/lib/python3.7/site-packages (from transformers==3.0.0) (0.0.43)\r\n",
      "Requirement already satisfied: sentencepiece in /opt/conda/lib/python3.7/site-packages (from transformers==3.0.0) (0.1.95)\r\n",
      "Requirement already satisfied: requests in /opt/conda/lib/python3.7/site-packages (from transformers==3.0.0) (2.25.1)\r\n",
      "Requirement already satisfied: regex!=2019.12.17 in /opt/conda/lib/python3.7/site-packages (from transformers==3.0.0) (2020.11.13)\r\n",
      "Requirement already satisfied: tqdm>=4.27 in /opt/conda/lib/python3.7/site-packages (from transformers==3.0.0) (4.56.2)\r\n",
      "Collecting tokenizers==0.8.0-rc4\r\n",
      "  Downloading tokenizers-0.8.0rc4-cp37-cp37m-manylinux1_x86_64.whl (3.0 MB)\r\n",
      "\u001b[K     |████████████████████████████████| 3.0 MB 5.1 MB/s \r\n",
      "\u001b[?25hRequirement already satisfied: numpy in /opt/conda/lib/python3.7/site-packages (from transformers==3.0.0) (1.19.5)\r\n",
      "Requirement already satisfied: pyparsing>=2.0.2 in /opt/conda/lib/python3.7/site-packages (from packaging->transformers==3.0.0) (2.4.7)\r\n",
      "Requirement already satisfied: chardet<5,>=3.0.2 in /opt/conda/lib/python3.7/site-packages (from requests->transformers==3.0.0) (3.0.4)\r\n",
      "Requirement already satisfied: certifi>=2017.4.17 in /opt/conda/lib/python3.7/site-packages (from requests->transformers==3.0.0) (2020.12.5)\r\n",
      "Requirement already satisfied: urllib3<1.27,>=1.21.1 in /opt/conda/lib/python3.7/site-packages (from requests->transformers==3.0.0) (1.26.3)\r\n",
      "Requirement already satisfied: idna<3,>=2.5 in /opt/conda/lib/python3.7/site-packages (from requests->transformers==3.0.0) (2.10)\r\n",
      "Requirement already satisfied: click in /opt/conda/lib/python3.7/site-packages (from sacremoses->transformers==3.0.0) (7.1.2)\r\n",
      "Requirement already satisfied: joblib in /opt/conda/lib/python3.7/site-packages (from sacremoses->transformers==3.0.0) (1.0.1)\r\n",
      "Requirement already satisfied: six in /opt/conda/lib/python3.7/site-packages (from sacremoses->transformers==3.0.0) (1.15.0)\r\n",
      "Installing collected packages: tokenizers, transformers\r\n",
      "  Attempting uninstall: tokenizers\r\n",
      "    Found existing installation: tokenizers 0.10.1\r\n",
      "    Uninstalling tokenizers-0.10.1:\r\n",
      "      Successfully uninstalled tokenizers-0.10.1\r\n",
      "  Attempting uninstall: transformers\r\n",
      "    Found existing installation: transformers 4.3.3\r\n",
      "    Uninstalling transformers-4.3.3:\r\n",
      "      Successfully uninstalled transformers-4.3.3\r\n",
      "\u001b[31mERROR: pip's dependency resolver does not currently take into account all the packages that are installed. This behaviour is the source of the following dependency conflicts.\r\n",
      "allennlp 2.1.0 requires transformers<4.4,>=4.1, but you have transformers 3.0.0 which is incompatible.\u001b[0m\r\n",
      "Successfully installed tokenizers-0.8.0rc4 transformers-3.0.0\r\n"
     ]
    }
   ],
   "source": [
    "!pip install transformers==3.0.0"
   ]
  },
  {
   "cell_type": "code",
   "execution_count": 2,
   "id": "behavioral-charge",
   "metadata": {
    "execution": {
     "iopub.execute_input": "2021-03-29T11:19:10.273275Z",
     "iopub.status.busy": "2021-03-29T11:19:10.272567Z",
     "iopub.status.idle": "2021-03-29T11:19:17.882754Z",
     "shell.execute_reply": "2021-03-29T11:19:17.881756Z"
    },
    "papermill": {
     "duration": 7.641715,
     "end_time": "2021-03-29T11:19:17.882906",
     "exception": false,
     "start_time": "2021-03-29T11:19:10.241191",
     "status": "completed"
    },
    "tags": []
   },
   "outputs": [
    {
     "name": "stderr",
     "output_type": "stream",
     "text": [
      "\u001b[34m\u001b[1mwandb\u001b[0m: \u001b[33mWARNING\u001b[0m W&B installed but not logged in.  Run `wandb login` or set the WANDB_API_KEY env variable.\n"
     ]
    }
   ],
   "source": [
    "import numpy as np\n",
    "import pandas as pd\n",
    "import torch\n",
    "import torch.nn as nn\n",
    "from sklearn.model_selection import train_test_split\n",
    "from sklearn.metrics import classification_report\n",
    "import transformers\n",
    "from transformers import AutoModel, BertTokenizerFast\n",
    "\n",
    "# specify GPU\n",
    "device = torch.device(\"cuda\")"
   ]
  },
  {
   "cell_type": "code",
   "execution_count": 3,
   "id": "universal-rainbow",
   "metadata": {
    "execution": {
     "iopub.execute_input": "2021-03-29T11:19:17.947741Z",
     "iopub.status.busy": "2021-03-29T11:19:17.947241Z",
     "iopub.status.idle": "2021-03-29T11:19:17.975327Z",
     "shell.execute_reply": "2021-03-29T11:19:17.975717Z"
    },
    "papermill": {
     "duration": 0.06808,
     "end_time": "2021-03-29T11:19:17.975859",
     "exception": false,
     "start_time": "2021-03-29T11:19:17.907779",
     "status": "completed"
    },
    "tags": []
   },
   "outputs": [
    {
     "data": {
      "text/html": [
       "<div>\n",
       "<style scoped>\n",
       "    .dataframe tbody tr th:only-of-type {\n",
       "        vertical-align: middle;\n",
       "    }\n",
       "\n",
       "    .dataframe tbody tr th {\n",
       "        vertical-align: top;\n",
       "    }\n",
       "\n",
       "    .dataframe thead th {\n",
       "        text-align: right;\n",
       "    }\n",
       "</style>\n",
       "<table border=\"1\" class=\"dataframe\">\n",
       "  <thead>\n",
       "    <tr style=\"text-align: right;\">\n",
       "      <th></th>\n",
       "      <th>Exception (input)</th>\n",
       "      <th>Queue</th>\n",
       "      <th>Process</th>\n",
       "      <th>Exception Category (ouput)</th>\n",
       "    </tr>\n",
       "  </thead>\n",
       "  <tbody>\n",
       "    <tr>\n",
       "      <th>0</th>\n",
       "      <td>Invite not found in both CBS mailbox</td>\n",
       "      <td>Queue-12</td>\n",
       "      <td>Process-9</td>\n",
       "      <td>Business Exception</td>\n",
       "    </tr>\n",
       "    <tr>\n",
       "      <th>1</th>\n",
       "      <td>Interviewer xxxx mail ID not found in invite.</td>\n",
       "      <td>Queue-12</td>\n",
       "      <td>Process-9</td>\n",
       "      <td>Business Exception</td>\n",
       "    </tr>\n",
       "    <tr>\n",
       "      <th>2</th>\n",
       "      <td>Invite not found in both TAX and PAS mailbox</td>\n",
       "      <td>Queue-12</td>\n",
       "      <td>Process-9</td>\n",
       "      <td>Business Exception</td>\n",
       "    </tr>\n",
       "    <tr>\n",
       "      <th>3</th>\n",
       "      <td>InternalFailed to evaluate expression 'Replace...</td>\n",
       "      <td>Queue-14</td>\n",
       "      <td>Process-11</td>\n",
       "      <td>System Exception</td>\n",
       "    </tr>\n",
       "    <tr>\n",
       "      <th>4</th>\n",
       "      <td>Could not execute code stage because exception...</td>\n",
       "      <td>Queue-16</td>\n",
       "      <td>Process-13</td>\n",
       "      <td>System Exception</td>\n",
       "    </tr>\n",
       "  </tbody>\n",
       "</table>\n",
       "</div>"
      ],
      "text/plain": [
       "                                   Exception (input)     Queue     Process  \\\n",
       "0               Invite not found in both CBS mailbox  Queue-12   Process-9   \n",
       "1      Interviewer xxxx mail ID not found in invite.  Queue-12   Process-9   \n",
       "2       Invite not found in both TAX and PAS mailbox  Queue-12   Process-9   \n",
       "3  InternalFailed to evaluate expression 'Replace...  Queue-14  Process-11   \n",
       "4  Could not execute code stage because exception...  Queue-16  Process-13   \n",
       "\n",
       "  Exception Category (ouput)  \n",
       "0         Business Exception  \n",
       "1         Business Exception  \n",
       "2         Business Exception  \n",
       "3           System Exception  \n",
       "4           System Exception  "
      ]
     },
     "execution_count": 3,
     "metadata": {},
     "output_type": "execute_result"
    }
   ],
   "source": [
    "df = pd.read_csv(\"../input/logdata/train.csv\")\n",
    "df.head()"
   ]
  },
  {
   "cell_type": "code",
   "execution_count": 4,
   "id": "scenic-group",
   "metadata": {
    "execution": {
     "iopub.execute_input": "2021-03-29T11:19:18.041117Z",
     "iopub.status.busy": "2021-03-29T11:19:18.040153Z",
     "iopub.status.idle": "2021-03-29T11:19:18.043515Z",
     "shell.execute_reply": "2021-03-29T11:19:18.043951Z"
    },
    "papermill": {
     "duration": 0.041612,
     "end_time": "2021-03-29T11:19:18.044086",
     "exception": false,
     "start_time": "2021-03-29T11:19:18.002474",
     "status": "completed"
    },
    "tags": []
   },
   "outputs": [
    {
     "data": {
      "text/html": [
       "<div>\n",
       "<style scoped>\n",
       "    .dataframe tbody tr th:only-of-type {\n",
       "        vertical-align: middle;\n",
       "    }\n",
       "\n",
       "    .dataframe tbody tr th {\n",
       "        vertical-align: top;\n",
       "    }\n",
       "\n",
       "    .dataframe thead th {\n",
       "        text-align: right;\n",
       "    }\n",
       "</style>\n",
       "<table border=\"1\" class=\"dataframe\">\n",
       "  <thead>\n",
       "    <tr style=\"text-align: right;\">\n",
       "      <th></th>\n",
       "      <th>text</th>\n",
       "      <th>Queue</th>\n",
       "      <th>Process</th>\n",
       "      <th>label</th>\n",
       "    </tr>\n",
       "  </thead>\n",
       "  <tbody>\n",
       "    <tr>\n",
       "      <th>0</th>\n",
       "      <td>Invite not found in both CBS mailbox</td>\n",
       "      <td>Queue-12</td>\n",
       "      <td>Process-9</td>\n",
       "      <td>0</td>\n",
       "    </tr>\n",
       "    <tr>\n",
       "      <th>1</th>\n",
       "      <td>Interviewer xxxx mail ID not found in invite.</td>\n",
       "      <td>Queue-12</td>\n",
       "      <td>Process-9</td>\n",
       "      <td>0</td>\n",
       "    </tr>\n",
       "    <tr>\n",
       "      <th>2</th>\n",
       "      <td>Invite not found in both TAX and PAS mailbox</td>\n",
       "      <td>Queue-12</td>\n",
       "      <td>Process-9</td>\n",
       "      <td>0</td>\n",
       "    </tr>\n",
       "    <tr>\n",
       "      <th>3</th>\n",
       "      <td>InternalFailed to evaluate expression 'Replace...</td>\n",
       "      <td>Queue-14</td>\n",
       "      <td>Process-11</td>\n",
       "      <td>1</td>\n",
       "    </tr>\n",
       "    <tr>\n",
       "      <th>4</th>\n",
       "      <td>Could not execute code stage because exception...</td>\n",
       "      <td>Queue-16</td>\n",
       "      <td>Process-13</td>\n",
       "      <td>1</td>\n",
       "    </tr>\n",
       "  </tbody>\n",
       "</table>\n",
       "</div>"
      ],
      "text/plain": [
       "                                                text     Queue     Process  \\\n",
       "0               Invite not found in both CBS mailbox  Queue-12   Process-9   \n",
       "1      Interviewer xxxx mail ID not found in invite.  Queue-12   Process-9   \n",
       "2       Invite not found in both TAX and PAS mailbox  Queue-12   Process-9   \n",
       "3  InternalFailed to evaluate expression 'Replace...  Queue-14  Process-11   \n",
       "4  Could not execute code stage because exception...  Queue-16  Process-13   \n",
       "\n",
       "   label  \n",
       "0      0  \n",
       "1      0  \n",
       "2      0  \n",
       "3      1  \n",
       "4      1  "
      ]
     },
     "execution_count": 4,
     "metadata": {},
     "output_type": "execute_result"
    }
   ],
   "source": [
    "df = df.rename(columns={\"Exception (input)\":\"text\",\"Exception Category (ouput)\":\"label\"})\n",
    "df = df.replace(\"Business Exception\",0)\n",
    "df = df.replace(\"System Exception\",1)\n",
    "df.head()"
   ]
  },
  {
   "cell_type": "code",
   "execution_count": 5,
   "id": "ongoing-component",
   "metadata": {
    "execution": {
     "iopub.execute_input": "2021-03-29T11:19:18.101424Z",
     "iopub.status.busy": "2021-03-29T11:19:18.100597Z",
     "iopub.status.idle": "2021-03-29T11:19:18.104032Z",
     "shell.execute_reply": "2021-03-29T11:19:18.104406Z"
    },
    "papermill": {
     "duration": 0.033455,
     "end_time": "2021-03-29T11:19:18.104532",
     "exception": false,
     "start_time": "2021-03-29T11:19:18.071077",
     "status": "completed"
    },
    "tags": []
   },
   "outputs": [
    {
     "data": {
      "text/plain": [
       "(47, 4)"
      ]
     },
     "execution_count": 5,
     "metadata": {},
     "output_type": "execute_result"
    }
   ],
   "source": [
    "df.shape"
   ]
  },
  {
   "cell_type": "code",
   "execution_count": 6,
   "id": "smart-special",
   "metadata": {
    "execution": {
     "iopub.execute_input": "2021-03-29T11:19:18.161585Z",
     "iopub.status.busy": "2021-03-29T11:19:18.160914Z",
     "iopub.status.idle": "2021-03-29T11:19:18.179804Z",
     "shell.execute_reply": "2021-03-29T11:19:18.179279Z"
    },
    "papermill": {
     "duration": 0.049526,
     "end_time": "2021-03-29T11:19:18.179946",
     "exception": false,
     "start_time": "2021-03-29T11:19:18.130420",
     "status": "completed"
    },
    "tags": []
   },
   "outputs": [
    {
     "data": {
      "text/plain": [
       "1    0.617021\n",
       "0    0.382979\n",
       "Name: label, dtype: float64"
      ]
     },
     "execution_count": 6,
     "metadata": {},
     "output_type": "execute_result"
    }
   ],
   "source": [
    "# check class distribution\n",
    "df['label'].value_counts(normalize = True)"
   ]
  },
  {
   "cell_type": "code",
   "execution_count": 7,
   "id": "sporting-vault",
   "metadata": {
    "execution": {
     "iopub.execute_input": "2021-03-29T11:19:18.240751Z",
     "iopub.status.busy": "2021-03-29T11:19:18.240098Z",
     "iopub.status.idle": "2021-03-29T11:19:18.247610Z",
     "shell.execute_reply": "2021-03-29T11:19:18.247211Z"
    },
    "papermill": {
     "duration": 0.03958,
     "end_time": "2021-03-29T11:19:18.247712",
     "exception": false,
     "start_time": "2021-03-29T11:19:18.208132",
     "status": "completed"
    },
    "tags": []
   },
   "outputs": [],
   "source": [
    "train_text, temp_text, train_labels, temp_labels = train_test_split(df['text'], df['label'], \n",
    "                                                                    random_state=2018, \n",
    "                                                                    test_size=0.1, \n",
    "                                                                    stratify=df['label'])\n",
    "\n",
    "# we will use temp_text and temp_labels to create validation and test set\n",
    "val_text, test_text, val_labels, test_labels = train_test_split(temp_text, temp_labels, \n",
    "                                                                random_state=2018, \n",
    "                                                                test_size=0.5, \n",
    "                                                                stratify=temp_labels)"
   ]
  },
  {
   "cell_type": "code",
   "execution_count": null,
   "id": "automotive-surface",
   "metadata": {
    "papermill": {
     "duration": 0.02655,
     "end_time": "2021-03-29T11:19:18.301633",
     "exception": false,
     "start_time": "2021-03-29T11:19:18.275083",
     "status": "completed"
    },
    "tags": []
   },
   "outputs": [],
   "source": []
  },
  {
   "cell_type": "code",
   "execution_count": 8,
   "id": "piano-certification",
   "metadata": {
    "execution": {
     "iopub.execute_input": "2021-03-29T11:19:18.360791Z",
     "iopub.status.busy": "2021-03-29T11:19:18.360017Z",
     "iopub.status.idle": "2021-03-29T11:19:34.664826Z",
     "shell.execute_reply": "2021-03-29T11:19:34.664388Z"
    },
    "papermill": {
     "duration": 16.335717,
     "end_time": "2021-03-29T11:19:34.664996",
     "exception": false,
     "start_time": "2021-03-29T11:19:18.329279",
     "status": "completed"
    },
    "tags": []
   },
   "outputs": [
    {
     "data": {
      "application/vnd.jupyter.widget-view+json": {
       "model_id": "f87768baff5a48209c690499de1f75c5",
       "version_major": 2,
       "version_minor": 0
      },
      "text/plain": [
       "Downloading:   0%|          | 0.00/433 [00:00<?, ?B/s]"
      ]
     },
     "metadata": {},
     "output_type": "display_data"
    },
    {
     "data": {
      "application/vnd.jupyter.widget-view+json": {
       "model_id": "baa6b071cbfe4c2290bad0698817a6b4",
       "version_major": 2,
       "version_minor": 0
      },
      "text/plain": [
       "Downloading:   0%|          | 0.00/440M [00:00<?, ?B/s]"
      ]
     },
     "metadata": {},
     "output_type": "display_data"
    },
    {
     "data": {
      "application/vnd.jupyter.widget-view+json": {
       "model_id": "5eb99c054d184cc48a17289847d18f5a",
       "version_major": 2,
       "version_minor": 0
      },
      "text/plain": [
       "Downloading:   0%|          | 0.00/232k [00:00<?, ?B/s]"
      ]
     },
     "metadata": {},
     "output_type": "display_data"
    }
   ],
   "source": [
    "# import BERT-base pretrained model\n",
    "bert = AutoModel.from_pretrained('bert-base-uncased')\n",
    "\n",
    "# Load the BERT tokenizer\n",
    "tokenizer = BertTokenizerFast.from_pretrained('bert-base-uncased')"
   ]
  },
  {
   "cell_type": "code",
   "execution_count": 9,
   "id": "several-entry",
   "metadata": {
    "execution": {
     "iopub.execute_input": "2021-03-29T11:19:34.726274Z",
     "iopub.status.busy": "2021-03-29T11:19:34.725686Z",
     "iopub.status.idle": "2021-03-29T11:19:34.938656Z",
     "shell.execute_reply": "2021-03-29T11:19:34.939075Z"
    },
    "papermill": {
     "duration": 0.245764,
     "end_time": "2021-03-29T11:19:34.939229",
     "exception": false,
     "start_time": "2021-03-29T11:19:34.693465",
     "status": "completed"
    },
    "tags": []
   },
   "outputs": [
    {
     "data": {
      "text/plain": [
       "<AxesSubplot:>"
      ]
     },
     "execution_count": 9,
     "metadata": {},
     "output_type": "execute_result"
    },
    {
     "data": {
      "image/png": "[encoded data removed]",
      "text/plain": [
       "<Figure size 432x288 with 1 Axes>"
      ]
     },
     "metadata": {
      "needs_background": "light"
     },
     "output_type": "display_data"
    }
   ],
   "source": [
    "# get length of all the messages in the train set\n",
    "seq_len = [len(i.split()) for i in train_text]\n",
    "\n",
    "pd.Series(seq_len).hist(bins = 30)"
   ]
  },
  {
   "cell_type": "code",
   "execution_count": 10,
   "id": "broad-orchestra",
   "metadata": {
    "execution": {
     "iopub.execute_input": "2021-03-29T11:19:35.001101Z",
     "iopub.status.busy": "2021-03-29T11:19:35.000457Z",
     "iopub.status.idle": "2021-03-29T11:19:35.003433Z",
     "shell.execute_reply": "2021-03-29T11:19:35.003029Z"
    },
    "papermill": {
     "duration": 0.035004,
     "end_time": "2021-03-29T11:19:35.003537",
     "exception": false,
     "start_time": "2021-03-29T11:19:34.968533",
     "status": "completed"
    },
    "tags": []
   },
   "outputs": [],
   "source": [
    "max_seq_len = 25"
   ]
  },
  {
   "cell_type": "code",
   "execution_count": 11,
   "id": "included-script",
   "metadata": {
    "execution": {
     "iopub.execute_input": "2021-03-29T11:19:35.073612Z",
     "iopub.status.busy": "2021-03-29T11:19:35.072797Z",
     "iopub.status.idle": "2021-03-29T11:19:35.075225Z",
     "shell.execute_reply": "2021-03-29T11:19:35.075748Z"
    },
    "papermill": {
     "duration": 0.042684,
     "end_time": "2021-03-29T11:19:35.075891",
     "exception": false,
     "start_time": "2021-03-29T11:19:35.033207",
     "status": "completed"
    },
    "tags": []
   },
   "outputs": [],
   "source": [
    "# tokenize and encode sequences in the training set\n",
    "tokens_train = tokenizer.batch_encode_plus(\n",
    "    train_text.tolist(),\n",
    "    max_length = max_seq_len,\n",
    "    pad_to_max_length=True,\n",
    "    truncation=True,\n",
    "    return_token_type_ids=False\n",
    ")\n",
    "\n",
    "# tokenize and encode sequences in the validation set\n",
    "tokens_val = tokenizer.batch_encode_plus(\n",
    "    val_text.tolist(),\n",
    "    max_length = max_seq_len,\n",
    "    pad_to_max_length=True,\n",
    "    truncation=True,\n",
    "    return_token_type_ids=False\n",
    ")\n",
    "\n",
    "# tokenize and encode sequences in the test set\n",
    "tokens_test = tokenizer.batch_encode_plus(\n",
    "    test_text.tolist(),\n",
    "    max_length = max_seq_len,\n",
    "    pad_to_max_length=True,\n",
    "    truncation=True,\n",
    "    return_token_type_ids=False\n",
    ")"
   ]
  },
  {
   "cell_type": "code",
   "execution_count": 12,
   "id": "thousand-leisure",
   "metadata": {
    "execution": {
     "iopub.execute_input": "2021-03-29T11:19:35.140618Z",
     "iopub.status.busy": "2021-03-29T11:19:35.139971Z",
     "iopub.status.idle": "2021-03-29T11:19:35.142473Z",
     "shell.execute_reply": "2021-03-29T11:19:35.142926Z"
    },
    "papermill": {
     "duration": 0.038381,
     "end_time": "2021-03-29T11:19:35.143055",
     "exception": false,
     "start_time": "2021-03-29T11:19:35.104674",
     "status": "completed"
    },
    "tags": []
   },
   "outputs": [],
   "source": [
    "# for train set\n",
    "train_seq = torch.tensor(tokens_train['input_ids'])\n",
    "train_mask = torch.tensor(tokens_train['attention_mask'])\n",
    "train_y = torch.tensor(train_labels.tolist())\n",
    "\n",
    "# for validation set\n",
    "val_seq = torch.tensor(tokens_val['input_ids'])\n",
    "val_mask = torch.tensor(tokens_val['attention_mask'])\n",
    "val_y = torch.tensor(val_labels.tolist())\n",
    "\n",
    "# for test set\n",
    "test_seq = torch.tensor(tokens_test['input_ids'])\n",
    "test_mask = torch.tensor(tokens_test['attention_mask'])\n",
    "test_y = torch.tensor(test_labels.tolist())"
   ]
  },
  {
   "cell_type": "code",
   "execution_count": 13,
   "id": "communist-recall",
   "metadata": {
    "execution": {
     "iopub.execute_input": "2021-03-29T11:19:35.208437Z",
     "iopub.status.busy": "2021-03-29T11:19:35.207713Z",
     "iopub.status.idle": "2021-03-29T11:19:35.210680Z",
     "shell.execute_reply": "2021-03-29T11:19:35.210275Z"
    },
    "papermill": {
     "duration": 0.03744,
     "end_time": "2021-03-29T11:19:35.210787",
     "exception": false,
     "start_time": "2021-03-29T11:19:35.173347",
     "status": "completed"
    },
    "tags": []
   },
   "outputs": [],
   "source": [
    "from torch.utils.data import TensorDataset, DataLoader, RandomSampler, SequentialSampler\n",
    "\n",
    "#define a batch size\n",
    "batch_size = 32\n",
    "\n",
    "# wrap tensors\n",
    "train_data = TensorDataset(train_seq, train_mask, train_y)\n",
    "\n",
    "# sampler for sampling the data during training\n",
    "train_sampler = RandomSampler(train_data)\n",
    "\n",
    "# dataLoader for train set\n",
    "train_dataloader = DataLoader(train_data, sampler=train_sampler, batch_size=batch_size)\n",
    "\n",
    "# wrap tensors\n",
    "val_data = TensorDataset(val_seq, val_mask, val_y)\n",
    "\n",
    "# sampler for sampling the data during training\n",
    "val_sampler = SequentialSampler(val_data)\n",
    "\n",
    "# dataLoader for validation set\n",
    "val_dataloader = DataLoader(val_data, sampler = val_sampler, batch_size=batch_size)"
   ]
  },
  {
   "cell_type": "code",
   "execution_count": 14,
   "id": "present-prediction",
   "metadata": {
    "execution": {
     "iopub.execute_input": "2021-03-29T11:19:35.274712Z",
     "iopub.status.busy": "2021-03-29T11:19:35.274080Z",
     "iopub.status.idle": "2021-03-29T11:19:35.276924Z",
     "shell.execute_reply": "2021-03-29T11:19:35.276383Z"
    },
    "papermill": {
     "duration": 0.037294,
     "end_time": "2021-03-29T11:19:35.277027",
     "exception": false,
     "start_time": "2021-03-29T11:19:35.239733",
     "status": "completed"
    },
    "tags": []
   },
   "outputs": [],
   "source": [
    "# freeze all the parameters\n",
    "for param in bert.parameters():\n",
    "    param.requires_grad = False"
   ]
  },
  {
   "cell_type": "code",
   "execution_count": 15,
   "id": "military-official",
   "metadata": {
    "execution": {
     "iopub.execute_input": "2021-03-29T11:19:35.342924Z",
     "iopub.status.busy": "2021-03-29T11:19:35.342250Z",
     "iopub.status.idle": "2021-03-29T11:19:35.345125Z",
     "shell.execute_reply": "2021-03-29T11:19:35.344703Z"
    },
    "papermill": {
     "duration": 0.038771,
     "end_time": "2021-03-29T11:19:35.345232",
     "exception": false,
     "start_time": "2021-03-29T11:19:35.306461",
     "status": "completed"
    },
    "tags": []
   },
   "outputs": [],
   "source": [
    "class BERT_Arch(nn.Module):\n",
    "\n",
    "    def __init__(self, bert):\n",
    "      \n",
    "      super(BERT_Arch, self).__init__()\n",
    "\n",
    "      self.bert = bert \n",
    "      \n",
    "      # dropout layer\n",
    "      self.dropout = nn.Dropout(0.1)\n",
    "      \n",
    "      # relu activation function\n",
    "      self.relu =  nn.ReLU()\n",
    "\n",
    "      # dense layer 1\n",
    "      self.fc1 = nn.Linear(768,512)\n",
    "      \n",
    "      # dense layer 2 (Output layer)\n",
    "      self.fc2 = nn.Linear(512,2)\n",
    "\n",
    "      #softmax activation function\n",
    "      self.softmax = nn.LogSoftmax(dim=1)\n",
    "\n",
    "    #define the forward pass\n",
    "    def forward(self, sent_id, mask):\n",
    "\n",
    "      #pass the inputs to the model  \n",
    "      _, cls_hs = self.bert(sent_id, attention_mask=mask)\n",
    "      \n",
    "      x = self.fc1(cls_hs)\n",
    "\n",
    "      x = self.relu(x)\n",
    "\n",
    "      x = self.dropout(x)\n",
    "\n",
    "      # output layer\n",
    "      x = self.fc2(x)\n",
    "      \n",
    "      # apply softmax activation\n",
    "      x = self.softmax(x)\n",
    "\n",
    "      return x"
   ]
  },
  {
   "cell_type": "code",
   "execution_count": 16,
   "id": "organized-batman",
   "metadata": {
    "execution": {
     "iopub.execute_input": "2021-03-29T11:19:35.407790Z",
     "iopub.status.busy": "2021-03-29T11:19:35.407131Z",
     "iopub.status.idle": "2021-03-29T11:19:41.798036Z",
     "shell.execute_reply": "2021-03-29T11:19:41.797295Z"
    },
    "papermill": {
     "duration": 6.423631,
     "end_time": "2021-03-29T11:19:41.798253",
     "exception": false,
     "start_time": "2021-03-29T11:19:35.374622",
     "status": "completed"
    },
    "tags": []
   },
   "outputs": [],
   "source": [
    "# pass the pre-trained BERT to our define architecture\n",
    "model = BERT_Arch(bert)\n",
    "\n",
    "# push the model to GPU\n",
    "model = model.to(device)"
   ]
  },
  {
   "cell_type": "code",
   "execution_count": 17,
   "id": "exotic-fluid",
   "metadata": {
    "execution": {
     "iopub.execute_input": "2021-03-29T11:19:41.911618Z",
     "iopub.status.busy": "2021-03-29T11:19:41.910755Z",
     "iopub.status.idle": "2021-03-29T11:19:41.919251Z",
     "shell.execute_reply": "2021-03-29T11:19:41.919855Z"
    },
    "papermill": {
     "duration": 0.071164,
     "end_time": "2021-03-29T11:19:41.920039",
     "exception": false,
     "start_time": "2021-03-29T11:19:41.848875",
     "status": "completed"
    },
    "tags": []
   },
   "outputs": [],
   "source": [
    "# optimizer from hugging face transformers\n",
    "from transformers import AdamW\n",
    "\n",
    "# define the optimizer\n",
    "optimizer = AdamW(model.parameters(), lr = 1e-3)"
   ]
  },
  {
   "cell_type": "code",
   "execution_count": 18,
   "id": "flexible-iraqi",
   "metadata": {
    "execution": {
     "iopub.execute_input": "2021-03-29T11:19:42.026152Z",
     "iopub.status.busy": "2021-03-29T11:19:42.025437Z",
     "iopub.status.idle": "2021-03-29T11:19:42.033957Z",
     "shell.execute_reply": "2021-03-29T11:19:42.034453Z"
    },
    "papermill": {
     "duration": 0.064627,
     "end_time": "2021-03-29T11:19:42.034612",
     "exception": false,
     "start_time": "2021-03-29T11:19:41.969985",
     "status": "completed"
    },
    "tags": []
   },
   "outputs": [
    {
     "name": "stdout",
     "output_type": "stream",
     "text": [
      "[1.3125     0.80769231]\n"
     ]
    },
    {
     "name": "stderr",
     "output_type": "stream",
     "text": [
      "/opt/conda/lib/python3.7/site-packages/sklearn/utils/validation.py:72: FutureWarning: Pass classes=[0 1], y=42    1\n",
      "25    0\n",
      "1     0\n",
      "37    1\n",
      "28    1\n",
      "9     0\n",
      "4     1\n",
      "44    1\n",
      "17    0\n",
      "6     1\n",
      "46    1\n",
      "29    1\n",
      "40    1\n",
      "26    1\n",
      "31    0\n",
      "35    0\n",
      "36    1\n",
      "39    1\n",
      "33    1\n",
      "16    0\n",
      "43    1\n",
      "11    1\n",
      "5     0\n",
      "15    1\n",
      "41    1\n",
      "12    0\n",
      "14    1\n",
      "38    1\n",
      "8     0\n",
      "0     0\n",
      "7     1\n",
      "22    0\n",
      "30    1\n",
      "18    0\n",
      "23    1\n",
      "27    0\n",
      "45    1\n",
      "20    1\n",
      "32    1\n",
      "21    1\n",
      "19    0\n",
      "13    0\n",
      "Name: label, dtype: int64 as keyword args. From version 1.0 (renaming of 0.25) passing these as positional arguments will result in an error\n",
      "  \"will result in an error\", FutureWarning)\n"
     ]
    }
   ],
   "source": [
    "from sklearn.utils.class_weight import compute_class_weight\n",
    "\n",
    "#compute the class weights\n",
    "class_wts = compute_class_weight('balanced', np.unique(train_labels), train_labels)\n",
    "\n",
    "print(class_wts)"
   ]
  },
  {
   "cell_type": "code",
   "execution_count": 19,
   "id": "gentle-coordination",
   "metadata": {
    "execution": {
     "iopub.execute_input": "2021-03-29T11:19:42.100279Z",
     "iopub.status.busy": "2021-03-29T11:19:42.099739Z",
     "iopub.status.idle": "2021-03-29T11:19:42.104533Z",
     "shell.execute_reply": "2021-03-29T11:19:42.104097Z"
    },
    "papermill": {
     "duration": 0.03858,
     "end_time": "2021-03-29T11:19:42.104637",
     "exception": false,
     "start_time": "2021-03-29T11:19:42.066057",
     "status": "completed"
    },
    "tags": []
   },
   "outputs": [],
   "source": [
    "# convert class weights to tensor\n",
    "weights= torch.tensor(class_wts,dtype=torch.float)\n",
    "weights = weights.to(device)\n",
    "\n",
    "# loss function\n",
    "cross_entropy  = nn.NLLLoss(weight=weights) \n",
    "\n",
    "# number of training epochs\n",
    "epochs = 30"
   ]
  },
  {
   "cell_type": "code",
   "execution_count": 20,
   "id": "strategic-taxation",
   "metadata": {
    "execution": {
     "iopub.execute_input": "2021-03-29T11:19:42.174357Z",
     "iopub.status.busy": "2021-03-29T11:19:42.173663Z",
     "iopub.status.idle": "2021-03-29T11:19:42.176577Z",
     "shell.execute_reply": "2021-03-29T11:19:42.176166Z"
    },
    "papermill": {
     "duration": 0.041595,
     "end_time": "2021-03-29T11:19:42.176686",
     "exception": false,
     "start_time": "2021-03-29T11:19:42.135091",
     "status": "completed"
    },
    "tags": []
   },
   "outputs": [],
   "source": [
    "# function to train the model\n",
    "def train():\n",
    "  \n",
    "  model.train()\n",
    "\n",
    "  total_loss, total_accuracy = 0, 0\n",
    "  \n",
    "  # empty list to save model predictions\n",
    "  total_preds=[]\n",
    "  \n",
    "  # iterate over batches\n",
    "  for step,batch in enumerate(train_dataloader):\n",
    "    \n",
    "    # progress update after every 50 batches.\n",
    "    if step % 50 == 0 and not step == 0:\n",
    "      print('  Batch {:>5,}  of  {:>5,}.'.format(step, len(train_dataloader)))\n",
    "\n",
    "    # push the batch to gpu\n",
    "    batch = [r.to(device) for r in batch]\n",
    " \n",
    "    sent_id, mask, labels = batch\n",
    "\n",
    "    # clear previously calculated gradients \n",
    "    model.zero_grad()        \n",
    "\n",
    "    # get model predictions for the current batch\n",
    "    preds = model(sent_id, mask)\n",
    "\n",
    "    # compute the loss between actual and predicted values\n",
    "    loss = cross_entropy(preds, labels)\n",
    "\n",
    "    # add on to the total loss\n",
    "    total_loss = total_loss + loss.item()\n",
    "\n",
    "    # backward pass to calculate the gradients\n",
    "    loss.backward()\n",
    "\n",
    "    # clip the the gradients to 1.0. It helps in preventing the exploding gradient problem\n",
    "    torch.nn.utils.clip_grad_norm_(model.parameters(), 1.0)\n",
    "\n",
    "    # update parameters\n",
    "    optimizer.step()\n",
    "\n",
    "    # model predictions are stored on GPU. So, push it to CPU\n",
    "    preds=preds.detach().cpu().numpy()\n",
    "\n",
    "    # append the model predictions\n",
    "    total_preds.append(preds)\n",
    "\n",
    "  # compute the training loss of the epoch\n",
    "  avg_loss = total_loss / len(train_dataloader)\n",
    "  \n",
    "  # predictions are in the form of (no. of batches, size of batch, no. of classes).\n",
    "  # reshape the predictions in form of (number of samples, no. of classes)\n",
    "  total_preds  = np.concatenate(total_preds, axis=0)\n",
    "\n",
    "  #returns the loss and predictions\n",
    "  return avg_loss, total_preds"
   ]
  },
  {
   "cell_type": "code",
   "execution_count": 21,
   "id": "great-budget",
   "metadata": {
    "execution": {
     "iopub.execute_input": "2021-03-29T11:19:42.244947Z",
     "iopub.status.busy": "2021-03-29T11:19:42.244291Z",
     "iopub.status.idle": "2021-03-29T11:19:42.247211Z",
     "shell.execute_reply": "2021-03-29T11:19:42.246788Z"
    },
    "papermill": {
     "duration": 0.040179,
     "end_time": "2021-03-29T11:19:42.247316",
     "exception": false,
     "start_time": "2021-03-29T11:19:42.207137",
     "status": "completed"
    },
    "tags": []
   },
   "outputs": [],
   "source": [
    "# function for evaluating the model\n",
    "def evaluate():\n",
    "  \n",
    "  print(\"\\nEvaluating...\")\n",
    "  \n",
    "  # deactivate dropout layers\n",
    "  model.eval()\n",
    "\n",
    "  total_loss, total_accuracy = 0, 0\n",
    "  \n",
    "  # empty list to save the model predictions\n",
    "  total_preds = []\n",
    "\n",
    "  # iterate over batches\n",
    "  for step,batch in enumerate(val_dataloader):\n",
    "    \n",
    "    # Progress update every 50 batches.\n",
    "    if step % 50 == 0 and not step == 0:\n",
    "      \n",
    "      # Calculate elapsed time in minutes.\n",
    "      elapsed = format_time(time.time() - t0)\n",
    "            \n",
    "      # Report progress.\n",
    "      print('  Batch {:>5,}  of  {:>5,}.'.format(step, len(val_dataloader)))\n",
    "\n",
    "    # push the batch to gpu\n",
    "    batch = [t.to(device) for t in batch]\n",
    "\n",
    "    sent_id, mask, labels = batch\n",
    "\n",
    "    # deactivate autograd\n",
    "    with torch.no_grad():\n",
    "      \n",
    "      # model predictions\n",
    "      preds = model(sent_id, mask)\n",
    "\n",
    "      # compute the validation loss between actual and predicted values\n",
    "      loss = cross_entropy(preds,labels)\n",
    "\n",
    "      total_loss = total_loss + loss.item()\n",
    "\n",
    "      preds = preds.detach().cpu().numpy()\n",
    "\n",
    "      total_preds.append(preds)\n",
    "\n",
    "  # compute the validation loss of the epoch\n",
    "  avg_loss = total_loss / len(val_dataloader) \n",
    "\n",
    "  # reshape the predictions in form of (number of samples, no. of classes)\n",
    "  total_preds  = np.concatenate(total_preds, axis=0)\n",
    "\n",
    "  return avg_loss, total_preds"
   ]
  },
  {
   "cell_type": "code",
   "execution_count": 22,
   "id": "romantic-copying",
   "metadata": {
    "execution": {
     "iopub.execute_input": "2021-03-29T11:19:42.317770Z",
     "iopub.status.busy": "2021-03-29T11:19:42.317139Z",
     "iopub.status.idle": "2021-03-29T11:21:11.589390Z",
     "shell.execute_reply": "2021-03-29T11:21:11.589796Z"
    },
    "papermill": {
     "duration": 89.312462,
     "end_time": "2021-03-29T11:21:11.589991",
     "exception": false,
     "start_time": "2021-03-29T11:19:42.277529",
     "status": "completed"
    },
    "tags": []
   },
   "outputs": [
    {
     "name": "stdout",
     "output_type": "stream",
     "text": [
      "\n",
      " Epoch 1 / 30\n",
      "\n",
      "Evaluating...\n",
      "\n",
      "Training Loss: 0.848\n",
      "Validation Loss: 0.586\n",
      "\n",
      " Epoch 2 / 30\n",
      "\n",
      "Evaluating...\n",
      "\n",
      "Training Loss: 0.761\n",
      "Validation Loss: 1.239\n",
      "\n",
      " Epoch 3 / 30\n",
      "\n",
      "Evaluating...\n",
      "\n",
      "Training Loss: 0.947\n",
      "Validation Loss: 0.628\n",
      "\n",
      " Epoch 4 / 30\n",
      "\n",
      "Evaluating...\n",
      "\n",
      "Training Loss: 0.713\n",
      "Validation Loss: 0.598\n",
      "\n",
      " Epoch 5 / 30\n",
      "\n",
      "Evaluating...\n",
      "\n",
      "Training Loss: 0.710\n",
      "Validation Loss: 0.550\n",
      "\n",
      " Epoch 6 / 30\n",
      "\n",
      "Evaluating...\n",
      "\n",
      "Training Loss: 0.691\n",
      "Validation Loss: 0.646\n",
      "\n",
      " Epoch 7 / 30\n",
      "\n",
      "Evaluating...\n",
      "\n",
      "Training Loss: 0.682\n",
      "Validation Loss: 0.740\n",
      "\n",
      " Epoch 8 / 30\n",
      "\n",
      "Evaluating...\n",
      "\n",
      "Training Loss: 0.631\n",
      "Validation Loss: 0.647\n",
      "\n",
      " Epoch 9 / 30\n",
      "\n",
      "Evaluating...\n",
      "\n",
      "Training Loss: 0.609\n",
      "Validation Loss: 0.603\n",
      "\n",
      " Epoch 10 / 30\n",
      "\n",
      "Evaluating...\n",
      "\n",
      "Training Loss: 0.596\n",
      "Validation Loss: 0.522\n",
      "\n",
      " Epoch 11 / 30\n",
      "\n",
      "Evaluating...\n",
      "\n",
      "Training Loss: 0.562\n",
      "Validation Loss: 0.479\n",
      "\n",
      " Epoch 12 / 30\n",
      "\n",
      "Evaluating...\n",
      "\n",
      "Training Loss: 0.535\n",
      "Validation Loss: 0.436\n",
      "\n",
      " Epoch 13 / 30\n",
      "\n",
      "Evaluating...\n",
      "\n",
      "Training Loss: 0.559\n",
      "Validation Loss: 0.393\n",
      "\n",
      " Epoch 14 / 30\n",
      "\n",
      "Evaluating...\n",
      "\n",
      "Training Loss: 0.567\n",
      "Validation Loss: 0.340\n",
      "\n",
      " Epoch 15 / 30\n",
      "\n",
      "Evaluating...\n",
      "\n",
      "Training Loss: 0.488\n",
      "Validation Loss: 0.315\n",
      "\n",
      " Epoch 16 / 30\n",
      "\n",
      "Evaluating...\n",
      "\n",
      "Training Loss: 0.600\n",
      "Validation Loss: 0.283\n",
      "\n",
      " Epoch 17 / 30\n",
      "\n",
      "Evaluating...\n",
      "\n",
      "Training Loss: 0.473\n",
      "Validation Loss: 0.265\n",
      "\n",
      " Epoch 18 / 30\n",
      "\n",
      "Evaluating...\n",
      "\n",
      "Training Loss: 0.490\n",
      "Validation Loss: 0.263\n",
      "\n",
      " Epoch 19 / 30\n",
      "\n",
      "Evaluating...\n",
      "\n",
      "Training Loss: 0.520\n",
      "Validation Loss: 0.288\n",
      "\n",
      " Epoch 20 / 30\n",
      "\n",
      "Evaluating...\n",
      "\n",
      "Training Loss: 0.445\n",
      "Validation Loss: 0.314\n",
      "\n",
      " Epoch 21 / 30\n",
      "\n",
      "Evaluating...\n",
      "\n",
      "Training Loss: 0.457\n",
      "Validation Loss: 0.255\n",
      "\n",
      " Epoch 22 / 30\n",
      "\n",
      "Evaluating...\n",
      "\n",
      "Training Loss: 0.461\n",
      "Validation Loss: 0.321\n",
      "\n",
      " Epoch 23 / 30\n",
      "\n",
      "Evaluating...\n",
      "\n",
      "Training Loss: 0.484\n",
      "Validation Loss: 0.247\n",
      "\n",
      " Epoch 24 / 30\n",
      "\n",
      "Evaluating...\n",
      "\n",
      "Training Loss: 0.401\n",
      "Validation Loss: 0.246\n",
      "\n",
      " Epoch 25 / 30\n",
      "\n",
      "Evaluating...\n",
      "\n",
      "Training Loss: 0.462\n",
      "Validation Loss: 0.216\n",
      "\n",
      " Epoch 26 / 30\n",
      "\n",
      "Evaluating...\n",
      "\n",
      "Training Loss: 0.448\n",
      "Validation Loss: 0.203\n",
      "\n",
      " Epoch 27 / 30\n",
      "\n",
      "Evaluating...\n",
      "\n",
      "Training Loss: 0.372\n",
      "Validation Loss: 0.268\n",
      "\n",
      " Epoch 28 / 30\n",
      "\n",
      "Evaluating...\n",
      "\n",
      "Training Loss: 0.401\n",
      "Validation Loss: 0.224\n",
      "\n",
      " Epoch 29 / 30\n",
      "\n",
      "Evaluating...\n",
      "\n",
      "Training Loss: 0.404\n",
      "Validation Loss: 0.255\n",
      "\n",
      " Epoch 30 / 30\n",
      "\n",
      "Evaluating...\n",
      "\n",
      "Training Loss: 0.570\n",
      "Validation Loss: 0.324\n"
     ]
    }
   ],
   "source": [
    "# set initial loss to infinite\n",
    "best_valid_loss = float('inf')\n",
    "\n",
    "# empty lists to store training and validation loss of each epoch\n",
    "train_losses=[]\n",
    "valid_losses=[]\n",
    "\n",
    "#for each epoch\n",
    "for epoch in range(epochs):\n",
    "     \n",
    "    print('\\n Epoch {:} / {:}'.format(epoch + 1, epochs))\n",
    "    \n",
    "    #train model\n",
    "    train_loss, _ = train()\n",
    "    \n",
    "    #evaluate model\n",
    "    valid_loss, _ = evaluate()\n",
    "    \n",
    "    #save the best model\n",
    "    if valid_loss < best_valid_loss:\n",
    "        best_valid_loss = valid_loss\n",
    "        torch.save(model.state_dict(), 'saved_weights.pt')\n",
    "    \n",
    "    # append training and validation loss\n",
    "    train_losses.append(train_loss)\n",
    "    valid_losses.append(valid_loss)\n",
    "    \n",
    "    print(f'\\nTraining Loss: {train_loss:.3f}')\n",
    "    print(f'Validation Loss: {valid_loss:.3f}')"
   ]
  },
  {
   "cell_type": "code",
   "execution_count": 23,
   "id": "conditional-civilization",
   "metadata": {
    "execution": {
     "iopub.execute_input": "2021-03-29T11:21:16.308736Z",
     "iopub.status.busy": "2021-03-29T11:21:16.307640Z",
     "iopub.status.idle": "2021-03-29T11:21:16.560340Z",
     "shell.execute_reply": "2021-03-29T11:21:16.560860Z"
    },
    "papermill": {
     "duration": 4.923499,
     "end_time": "2021-03-29T11:21:16.561023",
     "exception": false,
     "start_time": "2021-03-29T11:21:11.637524",
     "status": "completed"
    },
    "tags": []
   },
   "outputs": [
    {
     "data": {
      "text/plain": [
       "<All keys matched successfully>"
      ]
     },
     "execution_count": 23,
     "metadata": {},
     "output_type": "execute_result"
    }
   ],
   "source": [
    "#load weights of best model\n",
    "path = 'saved_weights.pt'\n",
    "model.load_state_dict(torch.load(path))"
   ]
  },
  {
   "cell_type": "code",
   "execution_count": 24,
   "id": "accompanied-moscow",
   "metadata": {
    "execution": {
     "iopub.execute_input": "2021-03-29T11:21:16.638945Z",
     "iopub.status.busy": "2021-03-29T11:21:16.638138Z",
     "iopub.status.idle": "2021-03-29T11:21:16.676077Z",
     "shell.execute_reply": "2021-03-29T11:21:16.675601Z"
    },
    "papermill": {
     "duration": 0.078376,
     "end_time": "2021-03-29T11:21:16.676192",
     "exception": false,
     "start_time": "2021-03-29T11:21:16.597816",
     "status": "completed"
    },
    "tags": []
   },
   "outputs": [],
   "source": [
    "# get predictions for test data\n",
    "with torch.no_grad():\n",
    "  preds = model(train_seq.to(device), train_mask.to(device))\n",
    "  preds = preds.detach().cpu().numpy()"
   ]
  },
  {
   "cell_type": "code",
   "execution_count": 25,
   "id": "stopped-anderson",
   "metadata": {
    "execution": {
     "iopub.execute_input": "2021-03-29T11:21:16.754559Z",
     "iopub.status.busy": "2021-03-29T11:21:16.753680Z",
     "iopub.status.idle": "2021-03-29T11:21:16.762018Z",
     "shell.execute_reply": "2021-03-29T11:21:16.761601Z"
    },
    "papermill": {
     "duration": 0.04944,
     "end_time": "2021-03-29T11:21:16.762130",
     "exception": false,
     "start_time": "2021-03-29T11:21:16.712690",
     "status": "completed"
    },
    "tags": []
   },
   "outputs": [
    {
     "name": "stdout",
     "output_type": "stream",
     "text": [
      "              precision    recall  f1-score   support\n",
      "\n",
      "           0       0.93      0.81      0.87        16\n",
      "           1       0.89      0.96      0.93        26\n",
      "\n",
      "    accuracy                           0.90        42\n",
      "   macro avg       0.91      0.89      0.90        42\n",
      "weighted avg       0.91      0.90      0.90        42\n",
      "\n"
     ]
    }
   ],
   "source": [
    "# model's performance\n",
    "preds = np.argmax(preds, axis = 1)\n",
    "print(classification_report(train_y, preds))"
   ]
  },
  {
   "cell_type": "code",
   "execution_count": 26,
   "id": "useful-limitation",
   "metadata": {
    "execution": {
     "iopub.execute_input": "2021-03-29T11:21:16.858579Z",
     "iopub.status.busy": "2021-03-29T11:21:16.857672Z",
     "iopub.status.idle": "2021-03-29T11:21:16.865810Z",
     "shell.execute_reply": "2021-03-29T11:21:16.865373Z"
    },
    "papermill": {
     "duration": 0.065958,
     "end_time": "2021-03-29T11:21:16.865941",
     "exception": false,
     "start_time": "2021-03-29T11:21:16.799983",
     "status": "completed"
    },
    "tags": []
   },
   "outputs": [
    {
     "data": {
      "text/html": [
       "<div>\n",
       "<style scoped>\n",
       "    .dataframe tbody tr th:only-of-type {\n",
       "        vertical-align: middle;\n",
       "    }\n",
       "\n",
       "    .dataframe tbody tr th {\n",
       "        vertical-align: top;\n",
       "    }\n",
       "\n",
       "    .dataframe thead th {\n",
       "        text-align: right;\n",
       "    }\n",
       "</style>\n",
       "<table border=\"1\" class=\"dataframe\">\n",
       "  <thead>\n",
       "    <tr style=\"text-align: right;\">\n",
       "      <th>col_0</th>\n",
       "      <th>0</th>\n",
       "      <th>1</th>\n",
       "    </tr>\n",
       "    <tr>\n",
       "      <th>row_0</th>\n",
       "      <th></th>\n",
       "      <th></th>\n",
       "    </tr>\n",
       "  </thead>\n",
       "  <tbody>\n",
       "    <tr>\n",
       "      <th>0</th>\n",
       "      <td>13</td>\n",
       "      <td>3</td>\n",
       "    </tr>\n",
       "    <tr>\n",
       "      <th>1</th>\n",
       "      <td>1</td>\n",
       "      <td>25</td>\n",
       "    </tr>\n",
       "  </tbody>\n",
       "</table>\n",
       "</div>"
      ],
      "text/plain": [
       "col_0   0   1\n",
       "row_0        \n",
       "0      13   3\n",
       "1       1  25"
      ]
     },
     "execution_count": 26,
     "metadata": {},
     "output_type": "execute_result"
    }
   ],
   "source": [
    "# confusion matrix\n",
    "pd.crosstab(train_y, preds)"
   ]
  },
  {
   "cell_type": "code",
   "execution_count": 27,
   "id": "pleasant-decline",
   "metadata": {
    "execution": {
     "iopub.execute_input": "2021-03-29T11:21:16.949704Z",
     "iopub.status.busy": "2021-03-29T11:21:16.948941Z",
     "iopub.status.idle": "2021-03-29T11:21:16.951590Z",
     "shell.execute_reply": "2021-03-29T11:21:16.951165Z"
    },
    "papermill": {
     "duration": 0.046418,
     "end_time": "2021-03-29T11:21:16.951695",
     "exception": false,
     "start_time": "2021-03-29T11:21:16.905277",
     "status": "completed"
    },
    "tags": []
   },
   "outputs": [],
   "source": [
    "def pipeline(text):\n",
    "    token = tokenizer.batch_encode_plus(\n",
    "            [text],\n",
    "            max_length = max_seq_len,\n",
    "            pad_to_max_length=True,\n",
    "            truncation=True,\n",
    "            return_token_type_ids=False\n",
    "            )\n",
    "    new_seq = torch.tensor(token['input_ids'])\n",
    "    new_mask = torch.tensor(token['attention_mask'])\n",
    "    return [new_seq, new_mask]\n",
    "\n",
    "def predict(text):\n",
    "    with torch.no_grad():\n",
    "        data = pipeline(text)\n",
    "        output = model(data[0].to(device), data[1].to(device))\n",
    "        output = output.detach().cpu().numpy()\n",
    "        return np.argmax(output,axis=1)"
   ]
  },
  {
   "cell_type": "code",
   "execution_count": 28,
   "id": "armed-motorcycle",
   "metadata": {
    "execution": {
     "iopub.execute_input": "2021-03-29T11:21:17.031264Z",
     "iopub.status.busy": "2021-03-29T11:21:17.030368Z",
     "iopub.status.idle": "2021-03-29T11:21:17.545461Z",
     "shell.execute_reply": "2021-03-29T11:21:17.544923Z"
    },
    "papermill": {
     "duration": 0.556551,
     "end_time": "2021-03-29T11:21:17.545607",
     "exception": false,
     "start_time": "2021-03-29T11:21:16.989056",
     "status": "completed"
    },
    "tags": []
   },
   "outputs": [
    {
     "name": "stdout",
     "output_type": "stream",
     "text": [
      "[1]\n"
     ]
    }
   ],
   "source": [
    "device = torch.device(\"cpu\")\n",
    "model = model.to(device)\n",
    "print(predict(\"Error in populating result in output template - Unexpected error occured in running output  macro\"))"
   ]
  }
 ],
 "metadata": {
  "kernelspec": {
   "display_name": "Python 3",
   "language": "python",
   "name": "python3"
  },
  "language_info": {
   "codemirror_mode": {
    "name": "ipython",
    "version": 3
   },
   "file_extension": ".py",
   "mimetype": "text/x-python",
   "name": "python",
   "nbconvert_exporter": "python",
   "pygments_lexer": "ipython3",
   "version": "3.7.9"
  },
  "papermill": {
   "default_parameters": {},
   "duration": 145.498028,
   "end_time": "2021-03-29T11:21:19.497069",
   "environment_variables": {},
   "exception": null,
   "input_path": "__notebook__.ipynb",
   "output_path": "__notebook__.ipynb",
   "parameters": {},
   "start_time": "2021-03-29T11:18:53.999041",
   "version": "2.3.2"
  },
  "widgets": {
   "application/vnd.jupyter.widget-state+json": {
    "state": {
     "0c56b854e6a24c3aa4cf2662b0662714": {
      "model_module": "@jupyter-widgets/base",
      "model_module_version": "1.2.0",
      "model_name": "LayoutModel",
      "state": {
       "_model_module": "@jupyter-widgets/base",
       "_model_module_version": "1.2.0",
       "_model_name": "LayoutModel",
       "_view_count": null,
       "_view_module": "@jupyter-widgets/base",
       "_view_module_version": "1.2.0",
       "_view_name": "LayoutView",
       "align_content": null,
       "align_items": null,
       "align_self": null,
       "border": null,
       "bottom": null,
       "display": null,
       "flex": null,
       "flex_flow": null,
       "grid_area": null,
       "grid_auto_columns": null,
       "grid_auto_flow": null,
       "grid_auto_rows": null,
       "grid_column": null,
       "grid_gap": null,
       "grid_row": null,
       "grid_template_areas": null,
       "grid_template_columns": null,
       "grid_template_rows": null,
       "height": null,
       "justify_content": null,
       "justify_items": null,
       "left": null,
       "margin": null,
       "max_height": null,
       "max_width": null,
       "min_height": null,
       "min_width": null,
       "object_fit": null,
       "object_position": null,
       "order": null,
       "overflow": null,
       "overflow_x": null,
       "overflow_y": null,
       "padding": null,
       "right": null,
       "top": null,
       "visibility": null,
       "width": null
      }
     },
     "10b5aa42f53c4be28788ca77fae6ae8a": {
      "model_module": "@jupyter-widgets/controls",
      "model_module_version": "1.5.0",
      "model_name": "HTMLModel",
      "state": {
       "_dom_classes": [],
       "_model_module": "@jupyter-widgets/controls",
       "_model_module_version": "1.5.0",
       "_model_name": "HTMLModel",
       "_view_count": null,
       "_view_module": "@jupyter-widgets/controls",
       "_view_module_version": "1.5.0",
       "_view_name": "HTMLView",
       "description": "",
       "description_tooltip": null,
       "layout": "IPY_MODEL_ac1c36a3a666432eab6d9cd8885f6d5b",
       "placeholder": "​",
       "style": "IPY_MODEL_ebe641fd760d43359d047d5f10fb826e",
       "value": "Downloading: 100%"
      }
     },
     "169558da49f346f19e665b9bb5b5beb3": {
      "model_module": "@jupyter-widgets/controls",
      "model_module_version": "1.5.0",
      "model_name": "HTMLModel",
      "state": {
       "_dom_classes": [],
       "_model_module": "@jupyter-widgets/controls",
       "_model_module_version": "1.5.0",
       "_model_name": "HTMLModel",
       "_view_count": null,
       "_view_module": "@jupyter-widgets/controls",
       "_view_module_version": "1.5.0",
       "_view_name": "HTMLView",
       "description": "",
       "description_tooltip": null,
       "layout": "IPY_MODEL_466b4a23dbbb44e6aa1f103c2d173489",
       "placeholder": "​",
       "style": "IPY_MODEL_2b3c7c66e6bc4e68b1f296a45c19b115",
       "value": " 433/433 [00:00&lt;00:00, 15.3kB/s]"
      }
     },
     "1ebea99722d84af48b1375deb5f00a56": {
      "model_module": "@jupyter-widgets/base",
      "model_module_version": "1.2.0",
      "model_name": "LayoutModel",
      "state": {
       "_model_module": "@jupyter-widgets/base",
       "_model_module_version": "1.2.0",
       "_model_name": "LayoutModel",
       "_view_count": null,
       "_view_module": "@jupyter-widgets/base",
       "_view_module_version": "1.2.0",
       "_view_name": "LayoutView",
       "align_content": null,
       "align_items": null,
       "align_self": null,
       "border": null,
       "bottom": null,
       "display": null,
       "flex": null,
       "flex_flow": null,
       "grid_area": null,
       "grid_auto_columns": null,
       "grid_auto_flow": null,
       "grid_auto_rows": null,
       "grid_column": null,
       "grid_gap": null,
       "grid_row": null,
       "grid_template_areas": null,
       "grid_template_columns": null,
       "grid_template_rows": null,
       "height": null,
       "justify_content": null,
       "justify_items": null,
       "left": null,
       "margin": null,
       "max_height": null,
       "max_width": null,
       "min_height": null,
       "min_width": null,
       "object_fit": null,
       "object_position": null,
       "order": null,
       "overflow": null,
       "overflow_x": null,
       "overflow_y": null,
       "padding": null,
       "right": null,
       "top": null,
       "visibility": null,
       "width": null
      }
     },
     "2b3c7c66e6bc4e68b1f296a45c19b115": {
      "model_module": "@jupyter-widgets/controls",
      "model_module_version": "1.5.0",
      "model_name": "DescriptionStyleModel",
      "state": {
       "_model_module": "@jupyter-widgets/controls",
       "_model_module_version": "1.5.0",
       "_model_name": "DescriptionStyleModel",
       "_view_count": null,
       "_view_module": "@jupyter-widgets/base",
       "_view_module_version": "1.2.0",
       "_view_name": "StyleView",
       "description_width": ""
      }
     },
     "36797066f03749f98a725f2210c10bc1": {
      "model_module": "@jupyter-widgets/controls",
      "model_module_version": "1.5.0",
      "model_name": "FloatProgressModel",
      "state": {
       "_dom_classes": [],
       "_model_module": "@jupyter-widgets/controls",
       "_model_module_version": "1.5.0",
       "_model_name": "FloatProgressModel",
       "_view_count": null,
       "_view_module": "@jupyter-widgets/controls",
       "_view_module_version": "1.5.0",
       "_view_name": "ProgressView",
       "bar_style": "success",
       "description": "",
       "description_tooltip": null,
       "layout": "IPY_MODEL_48c18613bbfc4d94bb74aa99ed9452bc",
       "max": 440473133.0,
       "min": 0.0,
       "orientation": "horizontal",
       "style": "IPY_MODEL_dc388ddd7f2a492599e4dd4148dc3b61",
       "value": 440473133.0
      }
     },
     "3ce17e94abe6430ba10b7fb2d946d226": {
      "model_module": "@jupyter-widgets/controls",
      "model_module_version": "1.5.0",
      "model_name": "ProgressStyleModel",
      "state": {
       "_model_module": "@jupyter-widgets/controls",
       "_model_module_version": "1.5.0",
       "_model_name": "ProgressStyleModel",
       "_view_count": null,
       "_view_module": "@jupyter-widgets/base",
       "_view_module_version": "1.2.0",
       "_view_name": "StyleView",
       "bar_color": null,
       "description_width": ""
      }
     },
     "3e8cda3418f44fc7887e5683e10cb1d0": {
      "model_module": "@jupyter-widgets/base",
      "model_module_version": "1.2.0",
      "model_name": "LayoutModel",
      "state": {
       "_model_module": "@jupyter-widgets/base",
       "_model_module_version": "1.2.0",
       "_model_name": "LayoutModel",
       "_view_count": null,
       "_view_module": "@jupyter-widgets/base",
       "_view_module_version": "1.2.0",
       "_view_name": "LayoutView",
       "align_content": null,
       "align_items": null,
       "align_self": null,
       "border": null,
       "bottom": null,
       "display": null,
       "flex": null,
       "flex_flow": null,
       "grid_area": null,
       "grid_auto_columns": null,
       "grid_auto_flow": null,
       "grid_auto_rows": null,
       "grid_column": null,
       "grid_gap": null,
       "grid_row": null,
       "grid_template_areas": null,
       "grid_template_columns": null,
       "grid_template_rows": null,
       "height": null,
       "justify_content": null,
       "justify_items": null,
       "left": null,
       "margin": null,
       "max_height": null,
       "max_width": null,
       "min_height": null,
       "min_width": null,
       "object_fit": null,
       "object_position": null,
       "order": null,
       "overflow": null,
       "overflow_x": null,
       "overflow_y": null,
       "padding": null,
       "right": null,
       "top": null,
       "visibility": null,
       "width": null
      }
     },
     "43ba60f794e54d62a4a75cf2aa57ac8b": {
      "model_module": "@jupyter-widgets/controls",
      "model_module_version": "1.5.0",
      "model_name": "FloatProgressModel",
      "state": {
       "_dom_classes": [],
       "_model_module": "@jupyter-widgets/controls",
       "_model_module_version": "1.5.0",
       "_model_name": "FloatProgressModel",
       "_view_count": null,
       "_view_module": "@jupyter-widgets/controls",
       "_view_module_version": "1.5.0",
       "_view_name": "ProgressView",
       "bar_style": "success",
       "description": "",
       "description_tooltip": null,
       "layout": "IPY_MODEL_3e8cda3418f44fc7887e5683e10cb1d0",
       "max": 433.0,
       "min": 0.0,
       "orientation": "horizontal",
       "style": "IPY_MODEL_efe393d3c27e4b08ada3296bfbf862d1",
       "value": 433.0
      }
     },
     "466b4a23dbbb44e6aa1f103c2d173489": {
      "model_module": "@jupyter-widgets/base",
      "model_module_version": "1.2.0",
      "model_name": "LayoutModel",
      "state": {
       "_model_module": "@jupyter-widgets/base",
       "_model_module_version": "1.2.0",
       "_model_name": "LayoutModel",
       "_view_count": null,
       "_view_module": "@jupyter-widgets/base",
       "_view_module_version": "1.2.0",
       "_view_name": "LayoutView",
       "align_content": null,
       "align_items": null,
       "align_self": null,
       "border": null,
       "bottom": null,
       "display": null,
       "flex": null,
       "flex_flow": null,
       "grid_area": null,
       "grid_auto_columns": null,
       "grid_auto_flow": null,
       "grid_auto_rows": null,
       "grid_column": null,
       "grid_gap": null,
       "grid_row": null,
       "grid_template_areas": null,
       "grid_template_columns": null,
       "grid_template_rows": null,
       "height": null,
       "justify_content": null,
       "justify_items": null,
       "left": null,
       "margin": null,
       "max_height": null,
       "max_width": null,
       "min_height": null,
       "min_width": null,
       "object_fit": null,
       "object_position": null,
       "order": null,
       "overflow": null,
       "overflow_x": null,
       "overflow_y": null,
       "padding": null,
       "right": null,
       "top": null,
       "visibility": null,
       "width": null
      }
     },
     "48c18613bbfc4d94bb74aa99ed9452bc": {
      "model_module": "@jupyter-widgets/base",
      "model_module_version": "1.2.0",
      "model_name": "LayoutModel",
      "state": {
       "_model_module": "@jupyter-widgets/base",
       "_model_module_version": "1.2.0",
       "_model_name": "LayoutModel",
       "_view_count": null,
       "_view_module": "@jupyter-widgets/base",
       "_view_module_version": "1.2.0",
       "_view_name": "LayoutView",
       "align_content": null,
       "align_items": null,
       "align_self": null,
       "border": null,
       "bottom": null,
       "display": null,
       "flex": null,
       "flex_flow": null,
       "grid_area": null,
       "grid_auto_columns": null,
       "grid_auto_flow": null,
       "grid_auto_rows": null,
       "grid_column": null,
       "grid_gap": null,
       "grid_row": null,
       "grid_template_areas": null,
       "grid_template_columns": null,
       "grid_template_rows": null,
       "height": null,
       "justify_content": null,
       "justify_items": null,
       "left": null,
       "margin": null,
       "max_height": null,
       "max_width": null,
       "min_height": null,
       "min_width": null,
       "object_fit": null,
       "object_position": null,
       "order": null,
       "overflow": null,
       "overflow_x": null,
       "overflow_y": null,
       "padding": null,
       "right": null,
       "top": null,
       "visibility": null,
       "width": null
      }
     },
     "4d888c7a70b240428b183b625a878886": {
      "model_module": "@jupyter-widgets/base",
      "model_module_version": "1.2.0",
      "model_name": "LayoutModel",
      "state": {
       "_model_module": "@jupyter-widgets/base",
       "_model_module_version": "1.2.0",
       "_model_name": "LayoutModel",
       "_view_count": null,
       "_view_module": "@jupyter-widgets/base",
       "_view_module_version": "1.2.0",
       "_view_name": "LayoutView",
       "align_content": null,
       "align_items": null,
       "align_self": null,
       "border": null,
       "bottom": null,
       "display": null,
       "flex": null,
       "flex_flow": null,
       "grid_area": null,
       "grid_auto_columns": null,
       "grid_auto_flow": null,
       "grid_auto_rows": null,
       "grid_column": null,
       "grid_gap": null,
       "grid_row": null,
       "grid_template_areas": null,
       "grid_template_columns": null,
       "grid_template_rows": null,
       "height": null,
       "justify_content": null,
       "justify_items": null,
       "left": null,
       "margin": null,
       "max_height": null,
       "max_width": null,
       "min_height": null,
       "min_width": null,
       "object_fit": null,
       "object_position": null,
       "order": null,
       "overflow": null,
       "overflow_x": null,
       "overflow_y": null,
       "padding": null,
       "right": null,
       "top": null,
       "visibility": null,
       "width": null
      }
     },
     "5eb99c054d184cc48a17289847d18f5a": {
      "model_module": "@jupyter-widgets/controls",
      "model_module_version": "1.5.0",
      "model_name": "HBoxModel",
      "state": {
       "_dom_classes": [],
       "_model_module": "@jupyter-widgets/controls",
       "_model_module_version": "1.5.0",
       "_model_name": "HBoxModel",
       "_view_count": null,
       "_view_module": "@jupyter-widgets/controls",
       "_view_module_version": "1.5.0",
       "_view_name": "HBoxView",
       "box_style": "",
       "children": [
        "IPY_MODEL_e6926eea085843cb8d5844ed12dc6863",
        "IPY_MODEL_d264e3502fe544d789d580fd518d44eb",
        "IPY_MODEL_91b1fde511be4a9da17ee46e9a3b9f0d"
       ],
       "layout": "IPY_MODEL_4d888c7a70b240428b183b625a878886"
      }
     },
     "5f1654d464a94e27890c201a2e4ec45d": {
      "model_module": "@jupyter-widgets/base",
      "model_module_version": "1.2.0",
      "model_name": "LayoutModel",
      "state": {
       "_model_module": "@jupyter-widgets/base",
       "_model_module_version": "1.2.0",
       "_model_name": "LayoutModel",
       "_view_count": null,
       "_view_module": "@jupyter-widgets/base",
       "_view_module_version": "1.2.0",
       "_view_name": "LayoutView",
       "align_content": null,
       "align_items": null,
       "align_self": null,
       "border": null,
       "bottom": null,
       "display": null,
       "flex": null,
       "flex_flow": null,
       "grid_area": null,
       "grid_auto_columns": null,
       "grid_auto_flow": null,
       "grid_auto_rows": null,
       "grid_column": null,
       "grid_gap": null,
       "grid_row": null,
       "grid_template_areas": null,
       "grid_template_columns": null,
       "grid_template_rows": null,
       "height": null,
       "justify_content": null,
       "justify_items": null,
       "left": null,
       "margin": null,
       "max_height": null,
       "max_width": null,
       "min_height": null,
       "min_width": null,
       "object_fit": null,
       "object_position": null,
       "order": null,
       "overflow": null,
       "overflow_x": null,
       "overflow_y": null,
       "padding": null,
       "right": null,
       "top": null,
       "visibility": null,
       "width": null
      }
     },
     "730ce968dcf04e74b57b4d19e168ebda": {
      "model_module": "@jupyter-widgets/base",
      "model_module_version": "1.2.0",
      "model_name": "LayoutModel",
      "state": {
       "_model_module": "@jupyter-widgets/base",
       "_model_module_version": "1.2.0",
       "_model_name": "LayoutModel",
       "_view_count": null,
       "_view_module": "@jupyter-widgets/base",
       "_view_module_version": "1.2.0",
       "_view_name": "LayoutView",
       "align_content": null,
       "align_items": null,
       "align_self": null,
       "border": null,
       "bottom": null,
       "display": null,
       "flex": null,
       "flex_flow": null,
       "grid_area": null,
       "grid_auto_columns": null,
       "grid_auto_flow": null,
       "grid_auto_rows": null,
       "grid_column": null,
       "grid_gap": null,
       "grid_row": null,
       "grid_template_areas": null,
       "grid_template_columns": null,
       "grid_template_rows": null,
       "height": null,
       "justify_content": null,
       "justify_items": null,
       "left": null,
       "margin": null,
       "max_height": null,
       "max_width": null,
       "min_height": null,
       "min_width": null,
       "object_fit": null,
       "object_position": null,
       "order": null,
       "overflow": null,
       "overflow_x": null,
       "overflow_y": null,
       "padding": null,
       "right": null,
       "top": null,
       "visibility": null,
       "width": null
      }
     },
     "8382fc7850d241768b6769e090ce70a8": {
      "model_module": "@jupyter-widgets/controls",
      "model_module_version": "1.5.0",
      "model_name": "HTMLModel",
      "state": {
       "_dom_classes": [],
       "_model_module": "@jupyter-widgets/controls",
       "_model_module_version": "1.5.0",
       "_model_name": "HTMLModel",
       "_view_count": null,
       "_view_module": "@jupyter-widgets/controls",
       "_view_module_version": "1.5.0",
       "_view_name": "HTMLView",
       "description": "",
       "description_tooltip": null,
       "layout": "IPY_MODEL_5f1654d464a94e27890c201a2e4ec45d",
       "placeholder": "​",
       "style": "IPY_MODEL_9a0970acd7f54922a33fc46686d07ba9",
       "value": " 440M/440M [00:10&lt;00:00, 44.2MB/s]"
      }
     },
     "8972b75f87e64cbf8235749358b8187c": {
      "model_module": "@jupyter-widgets/base",
      "model_module_version": "1.2.0",
      "model_name": "LayoutModel",
      "state": {
       "_model_module": "@jupyter-widgets/base",
       "_model_module_version": "1.2.0",
       "_model_name": "LayoutModel",
       "_view_count": null,
       "_view_module": "@jupyter-widgets/base",
       "_view_module_version": "1.2.0",
       "_view_name": "LayoutView",
       "align_content": null,
       "align_items": null,
       "align_self": null,
       "border": null,
       "bottom": null,
       "display": null,
       "flex": null,
       "flex_flow": null,
       "grid_area": null,
       "grid_auto_columns": null,
       "grid_auto_flow": null,
       "grid_auto_rows": null,
       "grid_column": null,
       "grid_gap": null,
       "grid_row": null,
       "grid_template_areas": null,
       "grid_template_columns": null,
       "grid_template_rows": null,
       "height": null,
       "justify_content": null,
       "justify_items": null,
       "left": null,
       "margin": null,
       "max_height": null,
       "max_width": null,
       "min_height": null,
       "min_width": null,
       "object_fit": null,
       "object_position": null,
       "order": null,
       "overflow": null,
       "overflow_x": null,
       "overflow_y": null,
       "padding": null,
       "right": null,
       "top": null,
       "visibility": null,
       "width": null
      }
     },
     "91b1fde511be4a9da17ee46e9a3b9f0d": {
      "model_module": "@jupyter-widgets/controls",
      "model_module_version": "1.5.0",
      "model_name": "HTMLModel",
      "state": {
       "_dom_classes": [],
       "_model_module": "@jupyter-widgets/controls",
       "_model_module_version": "1.5.0",
       "_model_name": "HTMLModel",
       "_view_count": null,
       "_view_module": "@jupyter-widgets/controls",
       "_view_module_version": "1.5.0",
       "_view_name": "HTMLView",
       "description": "",
       "description_tooltip": null,
       "layout": "IPY_MODEL_e436b9087d8a4092a78a55956f20c136",
       "placeholder": "​",
       "style": "IPY_MODEL_ec004277ecc14af09185e80528179ace",
       "value": " 232k/232k [00:00&lt;00:00, 546kB/s]"
      }
     },
     "9a0970acd7f54922a33fc46686d07ba9": {
      "model_module": "@jupyter-widgets/controls",
      "model_module_version": "1.5.0",
      "model_name": "DescriptionStyleModel",
      "state": {
       "_model_module": "@jupyter-widgets/controls",
       "_model_module_version": "1.5.0",
       "_model_name": "DescriptionStyleModel",
       "_view_count": null,
       "_view_module": "@jupyter-widgets/base",
       "_view_module_version": "1.2.0",
       "_view_name": "StyleView",
       "description_width": ""
      }
     },
     "9cda35c6e00d41919c9cb576f9465d6b": {
      "model_module": "@jupyter-widgets/base",
      "model_module_version": "1.2.0",
      "model_name": "LayoutModel",
      "state": {
       "_model_module": "@jupyter-widgets/base",
       "_model_module_version": "1.2.0",
       "_model_name": "LayoutModel",
       "_view_count": null,
       "_view_module": "@jupyter-widgets/base",
       "_view_module_version": "1.2.0",
       "_view_name": "LayoutView",
       "align_content": null,
       "align_items": null,
       "align_self": null,
       "border": null,
       "bottom": null,
       "display": null,
       "flex": null,
       "flex_flow": null,
       "grid_area": null,
       "grid_auto_columns": null,
       "grid_auto_flow": null,
       "grid_auto_rows": null,
       "grid_column": null,
       "grid_gap": null,
       "grid_row": null,
       "grid_template_areas": null,
       "grid_template_columns": null,
       "grid_template_rows": null,
       "height": null,
       "justify_content": null,
       "justify_items": null,
       "left": null,
       "margin": null,
       "max_height": null,
       "max_width": null,
       "min_height": null,
       "min_width": null,
       "object_fit": null,
       "object_position": null,
       "order": null,
       "overflow": null,
       "overflow_x": null,
       "overflow_y": null,
       "padding": null,
       "right": null,
       "top": null,
       "visibility": null,
       "width": null
      }
     },
     "a9f17f4a5d034e4f9032c042ec1bcd0e": {
      "model_module": "@jupyter-widgets/controls",
      "model_module_version": "1.5.0",
      "model_name": "DescriptionStyleModel",
      "state": {
       "_model_module": "@jupyter-widgets/controls",
       "_model_module_version": "1.5.0",
       "_model_name": "DescriptionStyleModel",
       "_view_count": null,
       "_view_module": "@jupyter-widgets/base",
       "_view_module_version": "1.2.0",
       "_view_name": "StyleView",
       "description_width": ""
      }
     },
     "ac1c36a3a666432eab6d9cd8885f6d5b": {
      "model_module": "@jupyter-widgets/base",
      "model_module_version": "1.2.0",
      "model_name": "LayoutModel",
      "state": {
       "_model_module": "@jupyter-widgets/base",
       "_model_module_version": "1.2.0",
       "_model_name": "LayoutModel",
       "_view_count": null,
       "_view_module": "@jupyter-widgets/base",
       "_view_module_version": "1.2.0",
       "_view_name": "LayoutView",
       "align_content": null,
       "align_items": null,
       "align_self": null,
       "border": null,
       "bottom": null,
       "display": null,
       "flex": null,
       "flex_flow": null,
       "grid_area": null,
       "grid_auto_columns": null,
       "grid_auto_flow": null,
       "grid_auto_rows": null,
       "grid_column": null,
       "grid_gap": null,
       "grid_row": null,
       "grid_template_areas": null,
       "grid_template_columns": null,
       "grid_template_rows": null,
       "height": null,
       "justify_content": null,
       "justify_items": null,
       "left": null,
       "margin": null,
       "max_height": null,
       "max_width": null,
       "min_height": null,
       "min_width": null,
       "object_fit": null,
       "object_position": null,
       "order": null,
       "overflow": null,
       "overflow_x": null,
       "overflow_y": null,
       "padding": null,
       "right": null,
       "top": null,
       "visibility": null,
       "width": null
      }
     },
     "b431ff2c014f4c90991ae1737d0c6d18": {
      "model_module": "@jupyter-widgets/controls",
      "model_module_version": "1.5.0",
      "model_name": "HTMLModel",
      "state": {
       "_dom_classes": [],
       "_model_module": "@jupyter-widgets/controls",
       "_model_module_version": "1.5.0",
       "_model_name": "HTMLModel",
       "_view_count": null,
       "_view_module": "@jupyter-widgets/controls",
       "_view_module_version": "1.5.0",
       "_view_name": "HTMLView",
       "description": "",
       "description_tooltip": null,
       "layout": "IPY_MODEL_1ebea99722d84af48b1375deb5f00a56",
       "placeholder": "​",
       "style": "IPY_MODEL_fdcbf0ec547a42409c1a84364f47ab12",
       "value": "Downloading: 100%"
      }
     },
     "baa6b071cbfe4c2290bad0698817a6b4": {
      "model_module": "@jupyter-widgets/controls",
      "model_module_version": "1.5.0",
      "model_name": "HBoxModel",
      "state": {
       "_dom_classes": [],
       "_model_module": "@jupyter-widgets/controls",
       "_model_module_version": "1.5.0",
       "_model_name": "HBoxModel",
       "_view_count": null,
       "_view_module": "@jupyter-widgets/controls",
       "_view_module_version": "1.5.0",
       "_view_name": "HBoxView",
       "box_style": "",
       "children": [
        "IPY_MODEL_10b5aa42f53c4be28788ca77fae6ae8a",
        "IPY_MODEL_36797066f03749f98a725f2210c10bc1",
        "IPY_MODEL_8382fc7850d241768b6769e090ce70a8"
       ],
       "layout": "IPY_MODEL_9cda35c6e00d41919c9cb576f9465d6b"
      }
     },
     "d264e3502fe544d789d580fd518d44eb": {
      "model_module": "@jupyter-widgets/controls",
      "model_module_version": "1.5.0",
      "model_name": "FloatProgressModel",
      "state": {
       "_dom_classes": [],
       "_model_module": "@jupyter-widgets/controls",
       "_model_module_version": "1.5.0",
       "_model_name": "FloatProgressModel",
       "_view_count": null,
       "_view_module": "@jupyter-widgets/controls",
       "_view_module_version": "1.5.0",
       "_view_name": "ProgressView",
       "bar_style": "success",
       "description": "",
       "description_tooltip": null,
       "layout": "IPY_MODEL_730ce968dcf04e74b57b4d19e168ebda",
       "max": 231508.0,
       "min": 0.0,
       "orientation": "horizontal",
       "style": "IPY_MODEL_3ce17e94abe6430ba10b7fb2d946d226",
       "value": 231508.0
      }
     },
     "dc388ddd7f2a492599e4dd4148dc3b61": {
      "model_module": "@jupyter-widgets/controls",
      "model_module_version": "1.5.0",
      "model_name": "ProgressStyleModel",
      "state": {
       "_model_module": "@jupyter-widgets/controls",
       "_model_module_version": "1.5.0",
       "_model_name": "ProgressStyleModel",
       "_view_count": null,
       "_view_module": "@jupyter-widgets/base",
       "_view_module_version": "1.2.0",
       "_view_name": "StyleView",
       "bar_color": null,
       "description_width": ""
      }
     },
     "e436b9087d8a4092a78a55956f20c136": {
      "model_module": "@jupyter-widgets/base",
      "model_module_version": "1.2.0",
      "model_name": "LayoutModel",
      "state": {
       "_model_module": "@jupyter-widgets/base",
       "_model_module_version": "1.2.0",
       "_model_name": "LayoutModel",
       "_view_count": null,
       "_view_module": "@jupyter-widgets/base",
       "_view_module_version": "1.2.0",
       "_view_name": "LayoutView",
       "align_content": null,
       "align_items": null,
       "align_self": null,
       "border": null,
       "bottom": null,
       "display": null,
       "flex": null,
       "flex_flow": null,
       "grid_area": null,
       "grid_auto_columns": null,
       "grid_auto_flow": null,
       "grid_auto_rows": null,
       "grid_column": null,
       "grid_gap": null,
       "grid_row": null,
       "grid_template_areas": null,
       "grid_template_columns": null,
       "grid_template_rows": null,
       "height": null,
       "justify_content": null,
       "justify_items": null,
       "left": null,
       "margin": null,
       "max_height": null,
       "max_width": null,
       "min_height": null,
       "min_width": null,
       "object_fit": null,
       "object_position": null,
       "order": null,
       "overflow": null,
       "overflow_x": null,
       "overflow_y": null,
       "padding": null,
       "right": null,
       "top": null,
       "visibility": null,
       "width": null
      }
     },
     "e6926eea085843cb8d5844ed12dc6863": {
      "model_module": "@jupyter-widgets/controls",
      "model_module_version": "1.5.0",
      "model_name": "HTMLModel",
      "state": {
       "_dom_classes": [],
       "_model_module": "@jupyter-widgets/controls",
       "_model_module_version": "1.5.0",
       "_model_name": "HTMLModel",
       "_view_count": null,
       "_view_module": "@jupyter-widgets/controls",
       "_view_module_version": "1.5.0",
       "_view_name": "HTMLView",
       "description": "",
       "description_tooltip": null,
       "layout": "IPY_MODEL_8972b75f87e64cbf8235749358b8187c",
       "placeholder": "​",
       "style": "IPY_MODEL_a9f17f4a5d034e4f9032c042ec1bcd0e",
       "value": "Downloading: 100%"
      }
     },
     "ebe641fd760d43359d047d5f10fb826e": {
      "model_module": "@jupyter-widgets/controls",
      "model_module_version": "1.5.0",
      "model_name": "DescriptionStyleModel",
      "state": {
       "_model_module": "@jupyter-widgets/controls",
       "_model_module_version": "1.5.0",
       "_model_name": "DescriptionStyleModel",
       "_view_count": null,
       "_view_module": "@jupyter-widgets/base",
       "_view_module_version": "1.2.0",
       "_view_name": "StyleView",
       "description_width": ""
      }
     },
     "ec004277ecc14af09185e80528179ace": {
      "model_module": "@jupyter-widgets/controls",
      "model_module_version": "1.5.0",
      "model_name": "DescriptionStyleModel",
      "state": {
       "_model_module": "@jupyter-widgets/controls",
       "_model_module_version": "1.5.0",
       "_model_name": "DescriptionStyleModel",
       "_view_count": null,
       "_view_module": "@jupyter-widgets/base",
       "_view_module_version": "1.2.0",
       "_view_name": "StyleView",
       "description_width": ""
      }
     },
     "efe393d3c27e4b08ada3296bfbf862d1": {
      "model_module": "@jupyter-widgets/controls",
      "model_module_version": "1.5.0",
      "model_name": "ProgressStyleModel",
      "state": {
       "_model_module": "@jupyter-widgets/controls",
       "_model_module_version": "1.5.0",
       "_model_name": "ProgressStyleModel",
       "_view_count": null,
       "_view_module": "@jupyter-widgets/base",
       "_view_module_version": "1.2.0",
       "_view_name": "StyleView",
       "bar_color": null,
       "description_width": ""
      }
     },
     "f87768baff5a48209c690499de1f75c5": {
      "model_module": "@jupyter-widgets/controls",
      "model_module_version": "1.5.0",
      "model_name": "HBoxModel",
      "state": {
       "_dom_classes": [],
       "_model_module": "@jupyter-widgets/controls",
       "_model_module_version": "1.5.0",
       "_model_name": "HBoxModel",
       "_view_count": null,
       "_view_module": "@jupyter-widgets/controls",
       "_view_module_version": "1.5.0",
       "_view_name": "HBoxView",
       "box_style": "",
       "children": [
        "IPY_MODEL_b431ff2c014f4c90991ae1737d0c6d18",
        "IPY_MODEL_43ba60f794e54d62a4a75cf2aa57ac8b",
        "IPY_MODEL_169558da49f346f19e665b9bb5b5beb3"
       ],
       "layout": "IPY_MODEL_0c56b854e6a24c3aa4cf2662b0662714"
      }
     },
     "fdcbf0ec547a42409c1a84364f47ab12": {
      "model_module": "@jupyter-widgets/controls",
      "model_module_version": "1.5.0",
      "model_name": "DescriptionStyleModel",
      "state": {
       "_model_module": "@jupyter-widgets/controls",
       "_model_module_version": "1.5.0",
       "_model_name": "DescriptionStyleModel",
       "_view_count": null,
       "_view_module": "@jupyter-widgets/base",
       "_view_module_version": "1.2.0",
       "_view_name": "StyleView",
       "description_width": ""
      }
     }
    },
    "version_major": 2,
    "version_minor": 0
   }
  }
 },
 "nbformat": 4,
 "nbformat_minor": 5
}
